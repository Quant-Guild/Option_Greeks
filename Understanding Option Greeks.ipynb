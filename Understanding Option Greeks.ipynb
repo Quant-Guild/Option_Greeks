{
 "cells": [
  {
   "cell_type": "markdown",
   "id": "b8700d08",
   "metadata": {},
   "source": [
    "![title](qgr.png)"
   ]
  },
  {
   "cell_type": "markdown",
   "id": "62eec323",
   "metadata": {},
   "source": [
    "# Understanding Option Greeks"
   ]
  },
  {
   "cell_type": "code",
   "execution_count": 4,
   "id": "1101ab43",
   "metadata": {},
   "outputs": [],
   "source": [
    "import numpy as np\n",
    "import pandas as pd\n",
    "from qfin.options import BlackScholesCall\n",
    "import matplotlib.pyplot as plt"
   ]
  },
  {
   "cell_type": "code",
   "execution_count": 5,
   "id": "a7518f49",
   "metadata": {},
   "outputs": [
    {
     "data": {
      "text/plain": [
       "'1.21.2'"
      ]
     },
     "execution_count": 5,
     "metadata": {},
     "output_type": "execute_result"
    }
   ],
   "source": [
    "np.__version__"
   ]
  },
  {
   "cell_type": "code",
   "execution_count": 6,
   "id": "03a8aa95",
   "metadata": {},
   "outputs": [
    {
     "data": {
      "text/plain": [
       "'1.3.2'"
      ]
     },
     "execution_count": 6,
     "metadata": {},
     "output_type": "execute_result"
    }
   ],
   "source": [
    "pd.__version__"
   ]
  },
  {
   "cell_type": "markdown",
   "id": "a509e98e",
   "metadata": {},
   "source": [
    "### Welcome to Quant Guild Research!\n",
    "\n",
    "In this notebook we aim to provide an intuitive and visual understanding of option greeks.\n",
    "\n",
    "General knowledge of options and the difference between their price today and at expiration is recommended before proceeding.\n",
    "\n",
    "In order to compute the greeks we must first assume a model, for this example we will select the infamous Black-Scholes model:\n",
    "\n",
    "\n",
    "$$C = \\Phi(d_1) S_t - \\Phi(d_2) K e^{-rt}$$\n",
    "$$d1 = \\frac{ln(\\frac{S_t}{K}) + (r+\\frac{\\sigma^2}{2})t}{\\sigma \\sqrt t}$$\n",
    "$$d2 = d_1 - \\sigma \\sqrt t$$\n",
    "\n",
    "Where\n",
    "- $\\Phi$ is the normal cumulative distribution function\n",
    "- $S_t$ is the spot price at time $t$\n",
    "- $\\sigma$ is volatility\n",
    "- $K$ is the strike price of the option\n",
    "- $r$ is the risk-free rate of interest\n",
    "- $t$ is the time to expiration\n",
    "\n",
    "Fortunately, the QFin Python package has a BlackScholesCall class that makes it easy to visualize an option's price.\n",
    "\n",
    "Let's visualize an option's price fixing every parameter of the option except the spot price:"
   ]
  },
  {
   "cell_type": "code",
   "execution_count": 15,
   "id": "315a737a",
   "metadata": {},
   "outputs": [],
   "source": [
    "# Fixed option parameters\n",
    "sigma = .3\n",
    "K = 100\n",
    "r = 0\n",
    "t = 1\n",
    "\n",
    "# Varying spot price\n",
    "S_t = np.linspace(60, 110, 100)\n",
    "\n",
    "# For option class storage\n",
    "options = []\n",
    "\n",
    "# Create an option for each spot price\n",
    "for i in range(len(S_t)):\n",
    "    options.append(BlackScholesCall(S_t[i], sigma, K, t, r))"
   ]
  },
  {
   "cell_type": "code",
   "execution_count": 23,
   "id": "e55e0820",
   "metadata": {},
   "outputs": [
    {
     "data": {
      "text/plain": [
       "[<matplotlib.lines.Line2D at 0x237b6623f10>]"
      ]
     },
     "execution_count": 23,
     "metadata": {},
     "output_type": "execute_result"
    },
    {
     "data": {
      "image/png": "[encoded data removed]",
      "text/plain": [
       "<Figure size 432x288 with 1 Axes>"
      ]
     },
     "metadata": {
      "needs_background": "light"
     },
     "output_type": "display_data"
    }
   ],
   "source": [
    "# For storing option prices\n",
    "option_prices = []\n",
    "\n",
    "# Get the option prices from each class\n",
    "for option in options:\n",
    "    option_prices.append(option.price)\n",
    "\n",
    "# Plot the varying spots with the respective option prices\n",
    "plt.xlabel('$S_t$')\n",
    "plt.ylabel('Option Price')\n",
    "plt.title('Black-Scholes Option Price with Variable Spot')\n",
    "plt.plot(S_t, option_prices)"
   ]
  },
  {
   "cell_type": "markdown",
   "id": "3e126d3f",
   "metadata": {},
   "source": [
    "We can see that different spot prices with the same fixed parameters (volatility, time to maturity, risk-free rate, and strike price) yield different prices.\n",
    "\n",
    "Suppose you own the option where currently the spot is trading for 85: $S_t = 85$"
   ]
  },
  {
   "cell_type": "code",
   "execution_count": 25,
   "id": "f1a5895f",
   "metadata": {},
   "outputs": [
    {
     "name": "stdout",
     "output_type": "stream",
     "text": [
      "Black-Scholes Price:  5.093107981057017\n"
     ]
    }
   ],
   "source": [
    "print('Black-Scholes Price: ', BlackScholesCall(85, sigma, K, t, r).price)"
   ]
  },
  {
   "cell_type": "markdown",
   "id": "b84f13e5",
   "metadata": {},
   "source": [
    "and you wanted to know how much you can expect the price to change if thhe spot increases to $86$.  \n",
    "\n",
    "This is where the greeks come into play.\n",
    "\n",
    "Each greek is the partial derivative of the model price with respect to one of its variables.\n",
    "\n",
    "In this case we are going to look at the partial derivative with respect to the spot price: delta.\n",
    "\n",
    "Delta can be derived mathematically by taking the first-order partial derivative of the Black-Scholes model with respect to the spot price:\n",
    "\n",
    "$$\\frac{\\delta C}{\\delta S_t} = \\frac{\\delta}{\\delta S_t} [\\Phi(d_1) S_t - \\Phi(d_2) K e^{-rt}] = \\Phi(d1) - 0 = \\Phi(d1)$$"
   ]
  },
  {
   "cell_type": "code",
   "execution_count": 29,
   "id": "cdd3fa8f",
   "metadata": {},
   "outputs": [
    {
     "name": "stdout",
     "output_type": "stream",
     "text": [
      "Black-Scholes Delta:  0.3476289474497055\n"
     ]
    }
   ],
   "source": [
    "print('Black-Scholes Delta: ', BlackScholesCall(85, sigma, K, t, r).delta)"
   ]
  },
  {
   "cell_type": "markdown",
   "id": "05f9a09f",
   "metadata": {},
   "source": [
    "Those particularly keen will notice that the Black-Scholes model is non-linear and using the first-order partial derivative to derive sensitivity to an input is a linear process - this is true yielding some error commonly referred to as hedging error.\n",
    "\n",
    "We can add this line to our pricing equation using point-slope form:\n",
    "\n",
    "$$y - 5.0931 = .3476(x - 85)$$"
   ]
  },
  {
   "cell_type": "code",
   "execution_count": 30,
   "id": "51a18008",
   "metadata": {},
   "outputs": [],
   "source": [
    "x = np.linspace(60, 110, 1000)\n",
    "y = .3476*(x - 85) + 5.0931"
   ]
  },
  {
   "cell_type": "markdown",
   "id": "11959c1a",
   "metadata": {},
   "source": [
    "This also means the further we get away from $S_t = 85$ the worse our approximation for change will get:"
   ]
  },
  {
   "cell_type": "code",
   "execution_count": 34,
   "id": "30d3dd02",
   "metadata": {},
   "outputs": [
    {
     "data": {
      "text/plain": [
       "<matplotlib.legend.Legend at 0x237b6779670>"
      ]
     },
     "execution_count": 34,
     "metadata": {},
     "output_type": "execute_result"
    },
    {
     "data": {
      "image/png": "[encoded data removed]",
      "text/plain": [
       "<Figure size 432x288 with 1 Axes>"
      ]
     },
     "metadata": {
      "needs_background": "light"
     },
     "output_type": "display_data"
    }
   ],
   "source": [
    "plt.xlabel('$S_t$')\n",
    "plt.ylabel('Option Price')\n",
    "plt.title('Black-Scholes Option Price with Variable Spot')\n",
    "plt.plot(S_t, option_prices, label='Option Price')\n",
    "plt.plot(x, y, label='Delta@$S_t=85$')\n",
    "plt.legend()"
   ]
  },
  {
   "cell_type": "markdown",
   "id": "ce8075d3",
   "metadata": {},
   "source": [
    "So how much can we expect our option price to change from the original 5.093 if the price were to increase to $86$?\n",
    "\n",
    "We can use delta (our linear approximation) to find out!"
   ]
  },
  {
   "cell_type": "code",
   "execution_count": 40,
   "id": "53fa0c0e",
   "metadata": {},
   "outputs": [
    {
     "name": "stdout",
     "output_type": "stream",
     "text": [
      "Delta@S_t=85 for 86:  5.4407\n"
     ]
    }
   ],
   "source": [
    "new = .3476*(86 - 85) + 5.0931\n",
    "print('Delta@S_t=85 for 86: ', new)"
   ]
  },
  {
   "cell_type": "markdown",
   "id": "c2567f27",
   "metadata": {},
   "source": [
    "Notice that the value for delta is quoted in terms of the $change$ in value, we add the original option price at $S_t=85$ to yield the appropriate price on the line!\n",
    "\n",
    "Let's see what the value would really be at $86$ using the pricing solution:"
   ]
  },
  {
   "cell_type": "code",
   "execution_count": 41,
   "id": "3e71e7b5",
   "metadata": {},
   "outputs": [
    {
     "name": "stdout",
     "output_type": "stream",
     "text": [
      "Black-Scholes Price:  5.44798933663143\n",
      "Hedging Erorr:  0.007289336631430388\n"
     ]
    }
   ],
   "source": [
    "print('Black-Scholes Price: ', BlackScholesCall(86, sigma, K, t, r).price)\n",
    "print('Hedging Error: ', BlackScholesCall(86, sigma, K, t, r).price - new)"
   ]
  },
  {
   "cell_type": "markdown",
   "id": "cbf0f092",
   "metadata": {},
   "source": [
    "Not a bad approximation!  But notice how it gets worse the further you get from the initial spot value:"
   ]
  },
  {
   "cell_type": "code",
   "execution_count": 42,
   "id": "83a1a52a",
   "metadata": {},
   "outputs": [
    {
     "name": "stdout",
     "output_type": "stream",
     "text": [
      "Black-Scholes Price:  11.923538474048499\n",
      "Hedging Erorr:  1.6164384740484987\n"
     ]
    }
   ],
   "source": [
    "# Consider now the price at 100\n",
    "new = .3476*(100 - 85) + 5.0931\n",
    "print('Black-Scholes Price: ', BlackScholesCall(100, sigma, K, t, r).price)\n",
    "print('Hedging Error: ', BlackScholesCall(100, sigma, K, t, r).price - new)"
   ]
  },
  {
   "cell_type": "markdown",
   "id": "00564c0b",
   "metadata": {},
   "source": [
    "A much larger error!  This means we would want to recompute the delta as the spot price changes to provide a more accurate approximation.\n",
    "\n",
    "This is exactly what traders do!  \n",
    "\n",
    "Traders assume some model and use sensitivities derived in this fashion to manage their exposure by buying and selling both the underlying and other options."
   ]
  },
  {
   "cell_type": "markdown",
   "id": "b8c06254",
   "metadata": {},
   "source": [
    "© 2022, Quant Guild"
   ]
  }
 ],
 "metadata": {
  "kernelspec": {
   "display_name": "Python 3 (ipykernel)",
   "language": "python",
   "name": "python3"
  },
  "language_info": {
   "codemirror_mode": {
    "name": "ipython",
    "version": 3
   },
   "file_extension": ".py",
   "mimetype": "text/x-python",
   "name": "python",
   "nbconvert_exporter": "python",
   "pygments_lexer": "ipython3",
   "version": "3.9.9"
  }
 },
 "nbformat": 4,
 "nbformat_minor": 5
}
